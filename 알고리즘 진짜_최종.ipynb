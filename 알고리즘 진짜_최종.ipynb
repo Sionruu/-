{
 "cells": [
  {
   "cell_type": "markdown",
   "id": "cc7981c9",
   "metadata": {},
   "source": [
    "# 일반적인 그리드"
   ]
  },
  {
   "cell_type": "code",
   "execution_count": 6,
   "id": "428479d5",
   "metadata": {},
   "outputs": [],
   "source": [
    "def set_cover(U, s):\n",
    "    uncovereded = U\n",
    "    covered = []\n",
    "\n",
    "    while uncovereded:\n",
    "        greedy_set = max(s, key=lambda x: len(uncovereded.intersection(x)))\n",
    "        covered.append(greedy_set)\n",
    "        uncovereded -= greedy_set\n",
    "    return covered"
   ]
  },
  {
   "cell_type": "code",
   "execution_count": 7,
   "id": "bd003233",
   "metadata": {},
   "outputs": [
    {
     "name": "stdout",
     "output_type": "stream",
     "text": [
      "[{1, 2, 3, 4, 5, 6}, {3, 5, 6, 8, 9}, {1, 2, 4, 5, 7}]\n"
     ]
    }
   ],
   "source": [
    "U = {1, 2, 3, 4, 5, 6, 7, 8, 9}\n",
    "S = [{1, 2, 3, 4, 5, 6}, {1, 2, 4, 5, 7}, {3, 5, 6, 8, 9}, {6, 9}]\n",
    "result = set_cover(U, S)\n",
    "print(result)"
   ]
  },
  {
   "cell_type": "markdown",
   "id": "9303e105",
   "metadata": {},
   "source": [
    "## Improved_set_cover(수정 필요)"
   ]
  },
  {
   "cell_type": "code",
   "execution_count": 28,
   "id": "125aad89",
   "metadata": {},
   "outputs": [],
   "source": [
    "def set_cover_improved(U, S):\n",
    "    # 선택된 부분 집합들을 담을 리스트\n",
    "    selected_subsets = []\n",
    "    \n",
    "    # 모든 집합이 커버될 때까지 반복\n",
    "    while len(U) > 0:\n",
    "        # 최대 커버 갯수를 저장할 변수\n",
    "        max_cover_count = 0\n",
    "        \n",
    "        # 최대 커버 갯수를 가지는 부분 집합을 선택할 변수\n",
    "        selected_subset = None\n",
    "        \n",
    "        # 모든 부분 집합에 대해 반복\n",
    "        for subset in S:\n",
    "            # 현재 부분 집합이 선택되었는지 확인\n",
    "            if subset in selected_subsets:\n",
    "                continue\n",
    "\n",
    "            # 부분 집합이 커버하는 요소의 개수\n",
    "            cover_count = len(set(subset).intersection(U))\n",
    "            \n",
    "            # 최대 커버 갯수보다 큰 경우 업데이트\n",
    "            if cover_count > max_cover_count:\n",
    "                max_cover_count = cover_count\n",
    "                selected_subset = subset\n",
    "            elif cover_count == max_cover_count and selected_subset is not None:\n",
    "                # 처음 시행횟수에는 앞의 인덱스를 선택(그리디와 동일한 방식으로 동작하기 위해 기입하지 않아도 되긴함)\n",
    "                if len(selected_subsets) == 0:\n",
    "                    idx = S.index(selected_subset)\n",
    "                    if S.index(subset) < idx:\n",
    "                        selected_subset = subset\n",
    "                else:\n",
    "                    # 2번째 이후부터는 최초의 최대 커버 요소를 선택\n",
    "                    first_subset = selected_subsets[0]\n",
    "                    first_cover_count = len(set(first_subset).intersection(U))\n",
    "                    if cover_count > first_cover_count:\n",
    "                        selected_subset = subset\n",
    "        \n",
    "        # 선택된 부분 집합을 추가\n",
    "        selected_subsets.append(selected_subset)\n",
    "        \n",
    "        # 선택된 부분 집합으로부터 U 업데이트\n",
    "        U = U.difference(selected_subset)\n",
    "\n",
    "    # 모든 집합을 커버완료후 중복되지 않은 고유값 찾기\n",
    "    unique_values = set()\n",
    "    for subset in selected_subsets:\n",
    "        unique_values.update(set(subset))\n",
    "\n",
    "    # 선택된 집합들 중에 고유값을 포함하지 않는 집합 제거\n",
    "    for subset in selected_subsets:\n",
    "        if not unique_values.isdisjoint(set(subset)):\n",
    "            selected_subsets.remove(subset)\n",
    "            break\n",
    "\n",
    "    return selected_subsets"
   ]
  },
  {
   "cell_type": "code",
   "execution_count": 29,
   "id": "b4338b3d",
   "metadata": {},
   "outputs": [
    {
     "name": "stdout",
     "output_type": "stream",
     "text": [
      "[{3, 5, 6, 8, 9}, {1, 2, 4, 5, 7}]\n"
     ]
    }
   ],
   "source": [
    "U = {1, 2, 3, 4, 5, 6, 7, 8, 9}\n",
    "S = [{1, 2, 3, 4, 5, 6}, {1, 2, 4, 5, 7}, {3, 5, 6, 8, 9}, {6, 9}]\n",
    "opt = set_cover_improved(U, S)\n",
    "print(opt)"
   ]
  },
  {
   "cell_type": "markdown",
   "id": "68cd9d8d",
   "metadata": {},
   "source": [
    "## 최적해에 더 근접하는 개선된 셋커버"
   ]
  },
  {
   "cell_type": "code",
   "execution_count": 30,
   "id": "158d95c4",
   "metadata": {},
   "outputs": [
    {
     "name": "stdout",
     "output_type": "stream",
     "text": [
      "개선된 셋커버:  [{2, 4, 6, 8, 10}, {1, 3, 5, 7, 9}]\n",
      "일반적인 셋커버:  [{1, 2, 3, 4, 5, 6}, {1, 3, 5, 7, 9}, {2, 4, 6, 8, 10}]\n"
     ]
    }
   ],
   "source": [
    "U = {1, 2, 3, 4, 5, 6, 7, 8, 9,10}\n",
    "S = [{1, 3, 5, 7, 9}, {2, 4, 6, 8, 10}, {1, 2, 3, 4, 5 ,6}]\n",
    "print('개선된 셋커버: ', set_cover_improved(U, S))\n",
    "print('일반적인 셋커버: ', set_cover(U, S))"
   ]
  },
  {
   "cell_type": "code",
   "execution_count": 34,
   "id": "f32b924a",
   "metadata": {},
   "outputs": [
    {
     "name": "stdout",
     "output_type": "stream",
     "text": [
      "2\n"
     ]
    }
   ],
   "source": [
    "def calculateSubsetFrequencies(sets):\n",
    "    frequencies = {}\n",
    "    for subset in sets:\n",
    "        for element in subset:\n",
    "            if element in frequencies:\n",
    "                frequencies[element] += 1\n",
    "            else:\n",
    "                frequencies[element] = 1\n",
    "\n",
    "    return frequencies\n",
    "\n",
    "\n",
    "def calculateSubsetInitialSizes(sets):\n",
    "    initial_sizes = {}\n",
    "    for i, subset in enumerate(sets):\n",
    "        initial_sizes[i+1] = len(subset)\n",
    "\n",
    "    return initial_sizes\n",
    "\n",
    "\n",
    "def findOptimalCover(sets):\n",
    "    universe = set()\n",
    "    for subset in sets:\n",
    "        universe |= set(subset)\n",
    "\n",
    "    optimalCover = []\n",
    "    while universe:\n",
    "        bestSubset = None\n",
    "        bestCovered = set()\n",
    "        for subset in sets:\n",
    "            covered = set(subset) & universe\n",
    "            if len(covered) > len(bestCovered):\n",
    "                bestSubset = subset\n",
    "                bestCovered = covered\n",
    "\n",
    "        if bestSubset is None:\n",
    "            break\n",
    "\n",
    "        if len([subset for subset in sets if len(set(subset) & universe) == len(bestCovered)]) > 1:\n",
    "            initialSizes = calculateSubsetInitialSizes(sets)\n",
    "            bestSubset = max([subset for subset in sets if len(set(subset) & universe) == len(bestCovered)],\n",
    "                             key=lambda x: initialSizes[sets.index(x)+1])\n",
    "        \n",
    "        optimalCover.append(bestSubset)\n",
    "        universe -= bestCovered\n",
    "        sets.remove(bestSubset)\n",
    "\n",
    "    frequencies = calculateSubsetFrequencies(optimalCover)\n",
    "    updatedOptimalCover = []\n",
    "    deletedOptimalCover = []\n",
    "\n",
    "    for subset in optimalCover:\n",
    "        if any(frequencies[element] == 1 for element in subset):\n",
    "            updatedOptimalCover.append(subset)\n",
    "        elif all(frequencies[element] != 1 for element in subset):\n",
    "            deletedOptimalCover.append(subset)\n",
    "\n",
    "    return updatedOptimalCover, deletedOptimalCover\n",
    "\n",
    "sets = [\n",
    "        [1, 3, 5, 7, 9],\n",
    "        [2, 4, 6, 8, 10],\n",
    "        [1, 2, 3, 4, 5 ,6]\n",
    "    \n",
    "    ]\n",
    "\n",
    "optimalCover = findOptimalCover(sets)\n",
    "print(len(optimalCover))\n",
    "\n"
   ]
  },
  {
   "cell_type": "markdown",
   "id": "9118e872",
   "metadata": {},
   "source": [
    "## 그리디와 improved 그리디 난수환경 비교"
   ]
  },
  {
   "cell_type": "code",
   "execution_count": 9,
   "id": "a8d9744f",
   "metadata": {},
   "outputs": [
    {
     "name": "stdout",
     "output_type": "stream",
     "text": [
      "set_total이 5인 경우의 개수 (그리디 알고리즘): 51\n",
      "set_total이 6인 경우의 개수 (그리디 알고리즘): 876\n",
      "set_total이 7인 경우의 개수 (그리디 알고리즘): 73\n",
      "==================================================\n",
      "set_total이 4인 경우의 개수 (개선된 알고리즘): 3\n",
      "set_total이 5인 경우의 개수 (개선된 알고리즘): 151\n",
      "set_total이 6인 경우의 개수 (개선된 알고리즘): 808\n",
      "set_total이 7인 경우의 개수 (개선된 알고리즘): 38\n"
     ]
    }
   ],
   "source": [
    "import random\n",
    "from collections import defaultdict\n",
    "\n",
    "def set_cover(universe, sets):\n",
    "    uncovered = set(universe)\n",
    "    cover = []\n",
    "    while uncovered:\n",
    "        best_set = max(sets, key=lambda x: len(uncovered.intersection(x)))\n",
    "        cover.append(best_set)\n",
    "        uncovered -= best_set\n",
    "    return cover\n",
    "\n",
    "def calculateSubsetFrequencies(sets):\n",
    "    frequencies = {}\n",
    "    for subset in sets:\n",
    "        for element in subset:\n",
    "            if element in frequencies:\n",
    "                frequencies[element] += 1\n",
    "            else:\n",
    "                frequencies[element] = 1\n",
    "\n",
    "    return frequencies\n",
    "\n",
    "\n",
    "def calculateSubsetInitialSizes(sets):\n",
    "    initial_sizes = {}\n",
    "    for i, subset in enumerate(sets):\n",
    "        initial_sizes[i+1] = len(subset)\n",
    "\n",
    "    return initial_sizes\n",
    "\n",
    "\n",
    "def set_cover_improved(universe, sets):\n",
    "    universe = universe\n",
    "    for subset in sets:\n",
    "        universe |= set(subset)\n",
    "\n",
    "    optimalCover = []\n",
    "    while universe:\n",
    "        bestSubset = None\n",
    "        bestCovered = set()\n",
    "        for subset in sets:\n",
    "            covered = set(subset) & universe\n",
    "            if len(covered) > len(bestCovered):\n",
    "                bestSubset = subset\n",
    "                bestCovered = covered\n",
    "\n",
    "        if bestSubset is None:\n",
    "            break\n",
    "\n",
    "        if len([subset for subset in sets if len(set(subset) & universe) == len(bestCovered)]) > 1:\n",
    "            initialSizes = calculateSubsetInitialSizes(sets)\n",
    "            bestSubset = max([subset for subset in sets if len(set(subset) & universe) == len(bestCovered)],\n",
    "                             key=lambda x: initialSizes[sets.index(x)+1])\n",
    "        \n",
    "        optimalCover.append(bestSubset)\n",
    "        universe -= bestCovered\n",
    "        sets.remove(bestSubset)\n",
    "\n",
    "    frequencies = calculateSubsetFrequencies(optimalCover)\n",
    "    updatedOptimalCover = []\n",
    "    deletedOptimalCover = []\n",
    "\n",
    "    for subset in optimalCover:\n",
    "        if any(frequencies[element] == 1 for element in subset):\n",
    "            updatedOptimalCover.append(subset)\n",
    "        elif all(frequencies[element] != 1 for element in subset):\n",
    "            deletedOptimalCover.append(subset)\n",
    "\n",
    "    return updatedOptimalCover\n",
    "\n",
    "\n",
    "def generate_sets(num_points, probability, num_sets):\n",
    "    universe = set(range(1, num_points + 1))\n",
    "    sets = []\n",
    "    for _ in range(num_sets):\n",
    "        new_set = set()\n",
    "        for point in range(1, num_points + 1):\n",
    "            if random.random() <= probability:\n",
    "                new_set.add(point)\n",
    "        sets.append(new_set)\n",
    "    return sets, universe\n",
    "\n",
    "num_points = 100  # 요소 개수 \n",
    "num_sets = 100  # 부분 집합 개수\n",
    "probability = 0.3  # 부분 집합이 집합의 각 요소를 포함할 확률\n",
    "#### 확률이 30퍼이기 때문에 40개를 포함할 수도 있음\n",
    "n = 1000  # 반복 실행 횟수\n",
    "\n",
    "greedy_set_totals = defaultdict(int)\n",
    "improved_set_totals = defaultdict(int)\n",
    "\n",
    "for _ in range(n):\n",
    "    sets, universe = generate_sets(num_points, probability, num_sets)\n",
    "    greedy_cover = set_cover(universe, sets)\n",
    "    improved_cover = set_cover_improved(universe, sets)\n",
    "    greedy_set_totals[len(greedy_cover)] += 1\n",
    "    improved_set_totals[len(improved_cover)] += 1\n",
    "\n",
    "sorted_greedy_totals = sorted(greedy_set_totals.items(), key=lambda x: x[0])\n",
    "sorted_improved_totals = sorted(improved_set_totals.items(), key=lambda x: x[0])\n",
    "\n",
    "for length, count in sorted_greedy_totals:\n",
    "    print(f'set_total이 {length}인 경우의 개수 (그리디 알고리즘): {count}')\n",
    "\n",
    "print(\"=\"*50)\n",
    "    \n",
    "for length, count in sorted_improved_totals:\n",
    "    print(f'set_total이 {length}인 경우의 개수 (개선된 알고리즘): {count}')"
   ]
  },
  {
   "cell_type": "code",
   "execution_count": null,
   "id": "995d9e1b",
   "metadata": {},
   "outputs": [],
   "source": []
  }
 ],
 "metadata": {
  "kernelspec": {
   "display_name": "Python 3 (ipykernel)",
   "language": "python",
   "name": "python3"
  },
  "language_info": {
   "codemirror_mode": {
    "name": "ipython",
    "version": 3
   },
   "file_extension": ".py",
   "mimetype": "text/x-python",
   "name": "python",
   "nbconvert_exporter": "python",
   "pygments_lexer": "ipython3",
   "version": "3.8.16"
  }
 },
 "nbformat": 4,
 "nbformat_minor": 5
}
