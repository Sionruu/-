{
 "cells": [
  {
   "cell_type": "markdown",
   "id": "cc7981c9",
   "metadata": {},
   "source": [
    "# 일반적인 셋 커버"
   ]
  },
  {
   "cell_type": "code",
   "execution_count": 2,
   "id": "428479d5",
   "metadata": {},
   "outputs": [],
   "source": [
    "def set_cover(U, s):\n",
    "    uncovered = U\n",
    "    covered = []\n",
    "\n",
    "    while uncovered:\n",
    "        best_set = max(s, key=lambda x: len(uncovered.intersection(set(x))))\n",
    "        covered.append(best_set)\n",
    "        uncovered -= set(best_set)\n",
    "    return covered"
   ]
  },
  {
   "cell_type": "code",
   "execution_count": 3,
   "id": "bd003233",
   "metadata": {},
   "outputs": [
    {
     "name": "stdout",
     "output_type": "stream",
     "text": [
      "[{1, 2, 3, 4, 5, 6}, {3, 5, 6, 8, 9}, {1, 2, 4, 5, 7}]\n"
     ]
    }
   ],
   "source": [
    "U = {1, 2, 3, 4, 5, 6, 7, 8, 9}\n",
    "S = [{1, 2, 3, 4, 5, 6}, {1, 2, 4, 5, 7}, {3, 5, 6, 8, 9}, {6, 9}]\n",
    "result = set_cover(U, S)\n",
    "print(result)"
   ]
  },
  {
   "cell_type": "markdown",
   "id": "68cd9d8d",
   "metadata": {},
   "source": [
    "## 최적해에 더 근접하는 개선된 셋커버"
   ]
  },
  {
   "cell_type": "code",
   "execution_count": 4,
   "id": "f32b924a",
   "metadata": {},
   "outputs": [],
   "source": [
    "# 요소의 고유갑 구하기\n",
    "def find_eigen(sets):\n",
    "    fre = {}\n",
    "    for subset in sets:\n",
    "        for element in subset:\n",
    "            if element in fre:\n",
    "                fre[element] += 1\n",
    "            else:\n",
    "                fre[element] = 1\n",
    "    return fre\n",
    "\n",
    "# 초기의 길이를 저장\n",
    "#(부분집합이 univer에 포함되기 때문에 부분집합이 가지는 갯수만 구하여도 가장 큰 값이 가장 그리디한 선택이 될수있음)\n",
    "def find_initialsizes(sets):\n",
    "    initial_sizes = {}\n",
    "    for i, subset in enumerate(sets):\n",
    "        initial_sizes[i+1] = len(subset)\n",
    "    return initial_sizes\n",
    "\n",
    "def set_cover_improved(universe, sets):\n",
    "    uncovered = universe\n",
    "    result = [] # 결과값이 담길 공간\n",
    "    while uncovered: # univer가 존재하면 계속 반복하여 모든 요소를 커버해라\n",
    "        bestSubset = {}\n",
    "        bestCovered = {}\n",
    "        for subset in sets:\n",
    "            covered = subset & uncovered\n",
    "            if len(covered) > len(bestCovered):\n",
    "                bestSubset = subset \n",
    "                bestCovered = covered\n",
    "\n",
    "        # 중복되는 그리디값이 있다면 초기의 길이가 긴것을 저장\n",
    "        if len([subset for subset in sets if len(subset & uncovered) == len(bestCovered)])>1:\n",
    "            initialSizes = find_initialsizes(sets)\n",
    "            bestSubset = max([subset for subset in sets if len(set(subset) & uncovered) == len(bestCovered)],\n",
    "                             key=lambda x: initialSizes[sets.index(x)+1])\n",
    "        \n",
    "        result.append(bestSubset)\n",
    "        uncovered -= bestCovered\n",
    "\n",
    "    frequencies = find_eigen(result)\n",
    "    # 선택된 값들 중 고유값을 포함하지 않는 집합들을 삭제하는 과정\n",
    "    for subset in result:\n",
    "        if all(frequencies[element] != 1 for element in subset):\n",
    "            result.remove(subset)\n",
    "\n",
    "    return result"
   ]
  },
  {
   "cell_type": "code",
   "execution_count": 5,
   "id": "f1f55069",
   "metadata": {},
   "outputs": [
    {
     "name": "stdout",
     "output_type": "stream",
     "text": [
      "개선된 셋커버:  [{3, 5, 6, 8, 9}, {1, 2, 4, 5, 7}]\n"
     ]
    }
   ],
   "source": [
    "U = {1, 2, 3, 4, 5, 6, 7, 8, 9}\n",
    "s = [{1, 2, 3, 4, 5, 6}, {1, 2, 4, 5, 7}, {3, 5, 6, 8, 9}, {6, 9}]\n",
    "print('개선된 셋커버: ', set_cover_improved(U, s))"
   ]
  },
  {
   "cell_type": "markdown",
   "id": "9118e872",
   "metadata": {},
   "source": [
    "## 그리디와 improved 그리디 난수환경 비교"
   ]
  },
  {
   "cell_type": "code",
   "execution_count": 6,
   "id": "5f6e7288",
   "metadata": {},
   "outputs": [],
   "source": [
    "def calculateSubsetFrequencies(sets):\n",
    "    frequencies = {}\n",
    "    for subset in sets:\n",
    "        for element in subset:\n",
    "            if element in frequencies:\n",
    "                frequencies[element] += 1\n",
    "            else:\n",
    "                frequencies[element] = 1\n",
    "\n",
    "    return frequencies\n",
    "\n",
    "\n",
    "def calculateSubsetInitialSizes(sets):\n",
    "    initial_sizes = {}\n",
    "    for i, subset in enumerate(sets):\n",
    "        initial_sizes[i+1] = len(subset)\n",
    "\n",
    "    return initial_sizes\n",
    "\n",
    "\n",
    "def set_cover_improved(universe, sets):\n",
    "    universe = universe\n",
    "    for subset in sets:\n",
    "        universe |= set(subset)\n",
    "\n",
    "    optimalCover = []\n",
    "    while universe:\n",
    "        bestSubset = None\n",
    "        bestCovered = set()\n",
    "        for subset in sets:\n",
    "            covered = set(subset) & universe\n",
    "            if len(covered) > len(bestCovered):\n",
    "                bestSubset = subset\n",
    "                bestCovered = covered\n",
    "\n",
    "        if bestSubset is None:\n",
    "            break\n",
    "\n",
    "        if len([subset for subset in sets if len(set(subset) & universe) == len(bestCovered)]) > 1:\n",
    "            initialSizes = calculateSubsetInitialSizes(sets)\n",
    "            bestSubset = max([subset for subset in sets if len(set(subset) & universe) == len(bestCovered)],\n",
    "                             key=lambda x: initialSizes[sets.index(x)+1])\n",
    "        \n",
    "        optimalCover.append(bestSubset)\n",
    "        universe -= bestCovered\n",
    "        sets.remove(bestSubset)\n",
    "\n",
    "    frequencies = calculateSubsetFrequencies(optimalCover)\n",
    "    updatedOptimalCover = []\n",
    "    deletedOptimalCover = []\n",
    "\n",
    "    for subset in optimalCover:\n",
    "        if any(frequencies[element] == 1 for element in subset):\n",
    "            updatedOptimalCover.append(subset)\n",
    "        elif all(frequencies[element] != 1 for element in subset):\n",
    "            deletedOptimalCover.append(subset)\n",
    "\n",
    "    return updatedOptimalCover"
   ]
  },
  {
   "cell_type": "code",
   "execution_count": 7,
   "id": "8074f095",
   "metadata": {},
   "outputs": [
    {
     "name": "stdout",
     "output_type": "stream",
     "text": [
      "선택된 부분집합이 5개인 경우의 개수 (그리디 알고리즘): 50\n",
      "선택된 부분집합이 6개인 경우의 개수 (그리디 알고리즘): 886\n",
      "선택된 부분집합이 7개인 경우의 개수 (그리디 알고리즘): 64\n",
      "==================================================\n",
      "선택된 부분집합이 4개인 경우의 개수 (개선된 알고리즘): 7\n",
      "선택된 부분집합이 5개인 경우의 개수 (개선된 알고리즘): 170\n",
      "선택된 부분집합이 6개인 경우의 개수 (개선된 알고리즘): 781\n",
      "선택된 부분집합이 7개인 경우의 개수 (개선된 알고리즘): 42\n"
     ]
    }
   ],
   "source": [
    "import random\n",
    "from collections import defaultdict\n",
    "import numpy as np\n",
    "import matplotlib.pyplot as plt\n",
    "\n",
    "# 선택된 부분집합의 수와 1000개 중에서 몇개가 포함되었는지를 저장할 딕셔너리\n",
    "greedy_set_totals = defaultdict(int) \n",
    "improved_set_totals = defaultdict(int)\n",
    "\n",
    "# 히스토그램 데이터 수집\n",
    "greedy_set_data = []\n",
    "improved_set_data = []\n",
    "\n",
    "# 이 난수 환경에서 improved가 적을경우는 몇번일까?\n",
    "count_case = 0\n",
    "\n",
    "random.seed(43)\n",
    "\n",
    "def generate_sets(num_points, probability, num_sets):\n",
    "    universe = set(range(1, num_points + 1))\n",
    "    sets = []\n",
    "    for _ in range(num_sets):\n",
    "        new_set = set()\n",
    "        for point in range(1, num_points + 1):\n",
    "            if random.random() <= probability: # 해당 확률보다 작거나 같을 때 그 요소를 포함 \n",
    "                new_set.add(point)\n",
    "        sets.append(new_set)\n",
    "    return sets, universe\n",
    "\n",
    "num_points = 100  # 요소 개수 \n",
    "num_sets = 100  # 부분 집합 개수\n",
    "probability = 0.3  # 부분 집합이 집합의 각 요소를 포함할 확률\n",
    "n = 1000  # 반복 실행 횟수\n",
    "\n",
    "for _ in range(n):\n",
    "    sets, universe = generate_sets(num_points, probability, num_sets)\n",
    "    greedy_cover = set_cover(universe, sets)\n",
    "    improved_cover = set_cover_improved(universe, sets)\n",
    "    greedy_set_totals[len(greedy_cover)] += 1\n",
    "    improved_set_totals[len(improved_cover)] += 1\n",
    "    greedy_set_data.append(len(greedy_cover))\n",
    "    improved_set_data.append(len(improved_cover))\n",
    "    if(len(greedy_cover)>len(improved_cover)):\n",
    "        count_case+=1\n",
    "        \n",
    "\n",
    "sorted_greedy_totals = sorted(greedy_set_totals.items(), key=lambda x: x[0])\n",
    "sorted_improved_totals = sorted(improved_set_totals.items(), key=lambda x: x[0])\n",
    "\n",
    "for length, count in sorted_greedy_totals:\n",
    "    print(f'선택된 부분집합이 {length}개인 경우의 개수 (그리디 알고리즘): {count}')\n",
    "\n",
    "print(\"=\"*50)\n",
    "    \n",
    "for length, count in sorted_improved_totals:\n",
    "    print(f'선택된 부분집합이 {length}개인 경우의 개수 (개선된 알고리즘): {count}')"
   ]
  },
  {
   "cell_type": "code",
   "execution_count": 9,
   "id": "dad97777",
   "metadata": {},
   "outputs": [
    {
     "data": {
      "text/plain": [
       "152"
      ]
     },
     "execution_count": 9,
     "metadata": {},
     "output_type": "execute_result"
    }
   ],
   "source": [
    "count_case"
   ]
  },
  {
   "cell_type": "markdown",
   "id": "92eb19c2",
   "metadata": {},
   "source": [
    "### plt bar"
   ]
  },
  {
   "cell_type": "code",
   "execution_count": 8,
   "id": "e9c8e5ae",
   "metadata": {},
   "outputs": [
    {
     "data": {
      "text/plain": [
       "<Figure size 1000x500 with 0 Axes>"
      ]
     },
     "execution_count": 8,
     "metadata": {},
     "output_type": "execute_result"
    },
    {
     "data": {
      "image/png": "[encoded data removed]",
      "text/plain": [
       "<Figure size 640x480 with 1 Axes>"
      ]
     },
     "metadata": {},
     "output_type": "display_data"
    },
    {
     "data": {
      "text/plain": [
       "<Figure size 1000x500 with 0 Axes>"
      ]
     },
     "metadata": {},
     "output_type": "display_data"
    }
   ],
   "source": [
    "hist_set_cover = np.array(greedy_set_data)\n",
    "hist_improved_set = np.array(improved_set_data)\n",
    "i = 500\n",
    "j = 550\n",
    "y1 = hist_set_cover[i:j]\n",
    "y2 = hist_improved_set[i:j]\n",
    "x = np.arange(i, j)\n",
    "plt.bar(x, y1, alpha=0.4, color = 'blue', label = 'greedy set cover')\n",
    "plt.bar(x, y2, alpha=0.6, color = 'cyan', label = 'improved set cover')\n",
    "plt.legend()\n",
    "plt.axis([i-1, j, 1, 8])\n",
    "plt.figure (figsize= (10, 5))"
   ]
  },
  {
   "cell_type": "code",
   "execution_count": 8,
   "id": "ba8083d9",
   "metadata": {},
   "outputs": [],
   "source": [
    "result_set = np.sum(hist_set_cover.reshape(10, 100), axis=1)"
   ]
  },
  {
   "cell_type": "code",
   "execution_count": 9,
   "id": "e0c96da1",
   "metadata": {},
   "outputs": [],
   "source": [
    "result_improved = np.sum(hist_improved_set.reshape(10, 100), axis=1)"
   ]
  },
  {
   "cell_type": "code",
   "execution_count": 10,
   "id": "edaa961a",
   "metadata": {},
   "outputs": [
    {
     "name": "stdout",
     "output_type": "stream",
     "text": [
      "[13, 16, 18, 20, 13, 17, 12, 14, 18, 15]\n"
     ]
    }
   ],
   "source": [
    "x_diff = []\n",
    "for i in range(len(result_set)):\n",
    "    x_diff.append(result_set[i] - result_improved[i])\n",
    "print(x_diff)"
   ]
  },
  {
   "cell_type": "markdown",
   "id": "1a27395f",
   "metadata": {},
   "source": [
    "## 100개를 하나의 그룹설정하여 차이확인"
   ]
  },
  {
   "cell_type": "code",
   "execution_count": 11,
   "id": "7245a803",
   "metadata": {},
   "outputs": [
    {
     "data": {
      "text/plain": [
       "<function matplotlib.pyplot.show(close=None, block=None)>"
      ]
     },
     "execution_count": 11,
     "metadata": {},
     "output_type": "execute_result"
    },
    {
     "data": {
      "image/png": "[encoded data removed]",
      "text/plain": [
       "<Figure size 640x480 with 1 Axes>"
      ]
     },
     "metadata": {},
     "output_type": "display_data"
    }
   ],
   "source": [
    "x = np.arange(1, 11)\n",
    "plt.bar(x, result_set, label = 'greedy set cover')\n",
    "plt.bar(x, result_improved, label = 'improved set cover')\n",
    "plt.axis([0, 11, 550, 620])\n",
    "plt.xticks(x, x_diff)\n",
    "plt.legend()\n",
    "plt.show"
   ]
  },
  {
   "cell_type": "markdown",
   "id": "c423e85c",
   "metadata": {},
   "source": [
    "### 몇번 정도 줄일까?"
   ]
  },
  {
   "cell_type": "markdown",
   "id": "45caf32c",
   "metadata": {},
   "source": [
    "# 수행시간 비교"
   ]
  },
  {
   "cell_type": "markdown",
   "id": "b52623c8",
   "metadata": {},
   "source": [
    "## 일반적인 그리디 알고리즘"
   ]
  },
  {
   "cell_type": "code",
   "execution_count": 10,
   "id": "0a853687",
   "metadata": {},
   "outputs": [
    {
     "name": "stderr",
     "output_type": "stream",
     "text": [
      "C:\\Users\\alstn\\AppData\\Local\\Temp\\ipykernel_15436\\1930720007.py:16: DeprecationWarning: Sampling from a set deprecated\n",
      "since Python 3.9 and will be removed in a subsequent version.\n",
      "  subset = set(random.sample(universe, subset_size))  # 부분집합 생성\n"
     ]
    },
    {
     "name": "stdout",
     "output_type": "stream",
     "text": [
      "    Input Size  Execution Time\n",
      "0         1000        0.077819\n",
      "1         1500        0.188222\n",
      "2         2000        0.348043\n",
      "3         2500        0.479485\n",
      "4         3000        0.747282\n",
      "5         3500        1.166912\n",
      "6         4000        1.529433\n",
      "7         4500        2.261059\n",
      "8         5000        2.632111\n",
      "9         5500        3.153335\n",
      "10        6000        3.829401\n",
      "11        6500        4.226662\n",
      "12        7000        4.882977\n",
      "13        7500        5.594883\n",
      "14        8000        6.204820\n"
     ]
    }
   ],
   "source": [
    "import time\n",
    "import random\n",
    "import pandas as pd\n",
    "\n",
    "# 입력 크기에 따른 실행 시간 측정\n",
    "#input_sizes = list(range(1000, 4001, 1000))\n",
    "input_sizes = list(range(1000, 8001, 500))\n",
    "execution_times = []\n",
    "random.seed(43)\n",
    "\n",
    "for size in input_sizes:\n",
    "    universe = set(range(1, size+1))\n",
    "    sets = []\n",
    "    for _ in range(size):\n",
    "        subset_size = random.randint(1, size//2)  # 부분집합 크기를 랜덤하게 선택\n",
    "        subset = set(random.sample(universe, subset_size))  # 부분집합 생성\n",
    "        sets.append(subset)\n",
    "        \n",
    "    start_time = time.time()\n",
    "    set_cover(universe, sets)\n",
    "    end_time = time.time()\n",
    "    execution_time = end_time - start_time\n",
    "    execution_times.append(execution_time)\n",
    "\n",
    "# 결과 표 출력\n",
    "set_time = pd.DataFrame({'Input Size': input_sizes, 'Execution Time': execution_times})\n",
    "print(set_time)"
   ]
  },
  {
   "cell_type": "markdown",
   "id": "18f1390d",
   "metadata": {},
   "source": [
    "## 개선된 그리디 알고리즘"
   ]
  },
  {
   "cell_type": "code",
   "execution_count": 11,
   "id": "90333487",
   "metadata": {},
   "outputs": [
    {
     "name": "stderr",
     "output_type": "stream",
     "text": [
      "C:\\Users\\alstn\\AppData\\Local\\Temp\\ipykernel_15436\\1406324774.py:14: DeprecationWarning: Sampling from a set deprecated\n",
      "since Python 3.9 and will be removed in a subsequent version.\n",
      "  subset = set(random.sample(universe, subset_size))  # 부분집합 생성\n"
     ]
    },
    {
     "name": "stdout",
     "output_type": "stream",
     "text": [
      "    Input Size  Execution Time\n",
      "0         1000        0.212432\n",
      "1         1500        0.499420\n",
      "2         2000        0.905483\n",
      "3         2500        1.363612\n",
      "4         3000        1.873861\n",
      "5         3500        2.826705\n",
      "6         4000        4.263036\n",
      "7         4500        4.564321\n",
      "8         5000        6.472080\n",
      "9         5500        8.026492\n",
      "10        6000        8.770546\n",
      "11        6500       10.425157\n",
      "12        7000       12.334184\n",
      "13        7500       13.164269\n",
      "14        8000       14.327772\n"
     ]
    }
   ],
   "source": [
    "import time\n",
    "import random\n",
    "import pandas as pd\n",
    "\n",
    "input_sizes = list(range(1000, 8001, 500))\n",
    "execution_times = []\n",
    "random.seed(43)\n",
    "\n",
    "for size in input_sizes:\n",
    "    universe = set(range(1, size+1))\n",
    "    sets = []\n",
    "    for _ in range(size):\n",
    "        subset_size = random.randint(1, size//2)  # 부분집합 크기를 랜덤하게 선택\n",
    "        subset = set(random.sample(universe, subset_size))  # 부분집합 생성\n",
    "        sets.append(subset)\n",
    "        \n",
    "    start_time = time.time()\n",
    "    set_cover_improved(universe, sets)\n",
    "    end_time = time.time()\n",
    "    execution_time = end_time - start_time\n",
    "    execution_times.append(execution_time)\n",
    "\n",
    "# 결과 표 출력\n",
    "improved_set_time = pd.DataFrame({'Input Size': input_sizes, 'Execution Time': execution_times})\n",
    "print(improved_set_time)"
   ]
  },
  {
   "cell_type": "markdown",
   "id": "47702055",
   "metadata": {},
   "source": [
    "## 브루트 포스 방식"
   ]
  },
  {
   "cell_type": "code",
   "execution_count": null,
   "id": "514368b3",
   "metadata": {},
   "outputs": [],
   "source": [
    "import itertools\n",
    "\n",
    "def set_cover_brute_force(universe, sets):\n",
    "    # 모든 가능한 집합 조합 생성\n",
    "    all_combinations = []\n",
    "    for r in range(1, len(sets) + 1):\n",
    "        combinations = itertools.combinations(sets, r)\n",
    "        all_combinations.extend(combinations)\n",
    "\n",
    "    best_cover = None\n",
    "    best_cover_size = float('inf')\n",
    "\n",
    "    # 모든 조합을 순회하며 최적해 찾기\n",
    "    for combination in all_combinations:\n",
    "        covered = set().union(*combination)\n",
    "        if covered == universe and len(combination) < best_cover_size:\n",
    "            best_cover = combination\n",
    "            best_cover_size = len(combination)\n",
    "\n",
    "    return best_cover\n",
    "\n",
    "import time\n",
    "import random\n",
    "import pandas as pd\n",
    "\n",
    "input_sizes = list(range(1000, 8001, 500))\n",
    "execution_times = []\n",
    "random.seed(43)\n",
    "\n",
    "for size in input_sizes:\n",
    "    universe = set(range(1, size+1))\n",
    "    sets = []\n",
    "    for _ in range(size):\n",
    "        subset_size = random.randint(1, size//2)  # 부분집합 크기를 랜덤하게 선택\n",
    "        subset = set(random.sample(universe, subset_size))  # 부분집합 생성\n",
    "        sets.append(subset)\n",
    "        \n",
    "    start_time = time.time()\n",
    "    set_cover_brute_force(universe, sets)\n",
    "    end_time = time.time()\n",
    "    execution_time = end_time - start_time\n",
    "    execution_times.append(execution_time)\n",
    "\n",
    "# 결과 표 출력\n",
    "set_cover_brute_force_time = pd.DataFrame({'Input Size': input_sizes, 'Execution Time': execution_times})\n",
    "print(improved_set_time)"
   ]
  },
  {
   "cell_type": "markdown",
   "id": "c8fd8a00",
   "metadata": {},
   "source": [
    "### 시각화 자료"
   ]
  },
  {
   "cell_type": "code",
   "execution_count": 12,
   "id": "c26e9456",
   "metadata": {},
   "outputs": [
    {
     "data": {
      "image/png": "[encoded data removed]",
      "text/plain": [
       "<Figure size 640x480 with 1 Axes>"
      ]
     },
     "metadata": {},
     "output_type": "display_data"
    }
   ],
   "source": [
    "import matplotlib.pyplot as plt\n",
    "\n",
    "plt.plot(set_time['Input Size'], set_time['Execution Time'], label='set_cover_time')\n",
    "plt.plot(improved_set_time['Input Size'], improved_set_time['Execution Time'], label='improved_set_cover_time')\n",
    "plt.xlabel('Input Size')\n",
    "plt.ylabel('Time')\n",
    "plt.legend()\n",
    "\n",
    "plt.show()"
   ]
  },
  {
   "cell_type": "code",
   "execution_count": null,
   "id": "5a4a6f43",
   "metadata": {},
   "outputs": [],
   "source": []
  }
 ],
 "metadata": {
  "kernelspec": {
   "display_name": "Python 3 (ipykernel)",
   "language": "python",
   "name": "python3"
  },
  "language_info": {
   "codemirror_mode": {
    "name": "ipython",
    "version": 3
   },
   "file_extension": ".py",
   "mimetype": "text/x-python",
   "name": "python",
   "nbconvert_exporter": "python",
   "pygments_lexer": "ipython3",
   "version": "3.9.13"
  }
 },
 "nbformat": 4,
 "nbformat_minor": 5
}
