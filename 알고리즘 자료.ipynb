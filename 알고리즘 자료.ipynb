{
 "cells": [
  {
   "cell_type": "markdown",
   "id": "37060c28",
   "metadata": {},
   "source": [
    "### 일반적인 그리디 알고리즘"
   ]
  },
  {
   "cell_type": "code",
   "execution_count": 178,
   "id": "86d67f29",
   "metadata": {},
   "outputs": [
    {
     "name": "stdout",
     "output_type": "stream",
     "text": [
      "선택된 s 집합들:\n",
      "{2, 3, 4, 5, 7, 8}\n",
      "{5, 6, 7, 9, 10}\n",
      "{8, 1, 2, 3}\n"
     ]
    }
   ],
   "source": [
    "def set_covered(U, s):\n",
    "    uncovereded = U\n",
    "    covered = []\n",
    "\n",
    "    while uncovereded:\n",
    "        greedy_set = max(s, key=lambda x: len(uncovereded.intersection(x)))\n",
    "        covered.append(greedy_set)\n",
    "        uncovereded -= greedy_set\n",
    "    return covered\n",
    "\n",
    "U = {1, 2, 3, 4, 5, 6, 7, 8, 9, 10}\n",
    "s = [{1, 2, 3, 8}, {2, 1, 3, 4, 8}, \n",
    "     {3, 1, 2, 4}, {4, 2, 3, 5, 7, 8}, \n",
    "     {5, 4, 7, 6}, {6, 5, 7, 9, 10}, \n",
    "     {7, 4, 5, 6}, {8, 1, 2, 4}, {9, 6}, \n",
    "     {10, 6}]\n",
    "\n",
    "greedy_set_cover = set_covered(U, s)\n",
    "\n",
    "\n",
    "print(\"선택된 s 집합들:\")\n",
    "for s in greedy_set_cover:\n",
    "    print(s) "
   ]
  },
  {
   "cell_type": "markdown",
   "id": "facaaed5",
   "metadata": {},
   "source": [
    "### 2스텝 그리디 알고리즘"
   ]
  },
  {
   "cell_type": "code",
   "execution_count": 25,
   "id": "53543b54",
   "metadata": {},
   "outputs": [
    {
     "name": "stdout",
     "output_type": "stream",
     "text": [
      "선택된 s 집합들:\n",
      "{2, 3, 4, 5, 7, 8}\n",
      "{5, 6, 7, 9, 10}\n",
      "{8, 1, 2, 3}\n"
     ]
    }
   ],
   "source": [
    "import itertools\n",
    "\n",
    "def set_covered(U, unioned_sets):\n",
    "    uncovereded = U\n",
    "    covered = []\n",
    "\n",
    "    while uncovereded:\n",
    "        greedy_set = max(s, key=lambda x: len(uncovereded.intersection(x)))\n",
    "        covered.append(greedy_set)\n",
    "        uncovereded -= greedy_set\n",
    "    return covered\n",
    "\n",
    "U = {1, 2, 3, 4, 5, 6, 7, 8, 9, 10}\n",
    "s = [{1, 2, 3, 8}, {2, 1, 3, 4, 8}, \n",
    "     {3, 1, 2, 4}, {4, 2, 3, 5, 7, 8}, \n",
    "     {5, 4, 7, 6}, {6, 5, 7, 9, 10}, \n",
    "     {7, 4, 5, 6}, {8, 1, 2, 4}, {9, 6}, \n",
    "     {10, 6}]\n",
    "\n",
    "combinations = list(itertools.combinations(s, 2))\n",
    "\n",
    "greedy_set_cover = set_covered(U, unioned_sets)\n",
    "\n",
    "print(\"선택된 s 집합들:\")\n",
    "for s in greedy_set_cover:\n",
    "    print(s) "
   ]
  },
  {
   "cell_type": "code",
   "execution_count": 21,
   "id": "81ccfd8b",
   "metadata": {},
   "outputs": [
    {
     "data": {
      "text/plain": [
       "[({1, 2, 3, 8}, {1, 2, 3, 4, 8}),\n",
       " ({1, 2, 3, 8}, {1, 2, 3, 4}),\n",
       " ({1, 2, 3, 8}, {2, 3, 4, 5, 7, 8}),\n",
       " ({1, 2, 3, 8}, {4, 5, 6, 7}),\n",
       " ({1, 2, 3, 8}, {5, 6, 7, 9, 10}),\n",
       " ({1, 2, 3, 8}, {4, 5, 6, 7}),\n",
       " ({1, 2, 3, 8}, {1, 2, 4, 8}),\n",
       " ({1, 2, 3, 8}, {6, 9}),\n",
       " ({1, 2, 3, 8}, {6, 10}),\n",
       " ({1, 2, 3, 4, 8}, {1, 2, 3, 4}),\n",
       " ({1, 2, 3, 4, 8}, {2, 3, 4, 5, 7, 8}),\n",
       " ({1, 2, 3, 4, 8}, {4, 5, 6, 7}),\n",
       " ({1, 2, 3, 4, 8}, {5, 6, 7, 9, 10}),\n",
       " ({1, 2, 3, 4, 8}, {4, 5, 6, 7}),\n",
       " ({1, 2, 3, 4, 8}, {1, 2, 4, 8}),\n",
       " ({1, 2, 3, 4, 8}, {6, 9}),\n",
       " ({1, 2, 3, 4, 8}, {6, 10}),\n",
       " ({1, 2, 3, 4}, {2, 3, 4, 5, 7, 8}),\n",
       " ({1, 2, 3, 4}, {4, 5, 6, 7}),\n",
       " ({1, 2, 3, 4}, {5, 6, 7, 9, 10}),\n",
       " ({1, 2, 3, 4}, {4, 5, 6, 7}),\n",
       " ({1, 2, 3, 4}, {1, 2, 4, 8}),\n",
       " ({1, 2, 3, 4}, {6, 9}),\n",
       " ({1, 2, 3, 4}, {6, 10}),\n",
       " ({2, 3, 4, 5, 7, 8}, {4, 5, 6, 7}),\n",
       " ({2, 3, 4, 5, 7, 8}, {5, 6, 7, 9, 10}),\n",
       " ({2, 3, 4, 5, 7, 8}, {4, 5, 6, 7}),\n",
       " ({2, 3, 4, 5, 7, 8}, {1, 2, 4, 8}),\n",
       " ({2, 3, 4, 5, 7, 8}, {6, 9}),\n",
       " ({2, 3, 4, 5, 7, 8}, {6, 10}),\n",
       " ({4, 5, 6, 7}, {5, 6, 7, 9, 10}),\n",
       " ({4, 5, 6, 7}, {4, 5, 6, 7}),\n",
       " ({4, 5, 6, 7}, {1, 2, 4, 8}),\n",
       " ({4, 5, 6, 7}, {6, 9}),\n",
       " ({4, 5, 6, 7}, {6, 10}),\n",
       " ({5, 6, 7, 9, 10}, {4, 5, 6, 7}),\n",
       " ({5, 6, 7, 9, 10}, {1, 2, 4, 8}),\n",
       " ({5, 6, 7, 9, 10}, {6, 9}),\n",
       " ({5, 6, 7, 9, 10}, {6, 10}),\n",
       " ({4, 5, 6, 7}, {1, 2, 4, 8}),\n",
       " ({4, 5, 6, 7}, {6, 9}),\n",
       " ({4, 5, 6, 7}, {6, 10}),\n",
       " ({1, 2, 4, 8}, {6, 9}),\n",
       " ({1, 2, 4, 8}, {6, 10}),\n",
       " ({6, 9}, {6, 10})]"
      ]
     },
     "execution_count": 21,
     "metadata": {},
     "output_type": "execute_result"
    }
   ],
   "source": [
    "import numpy as np\n",
    "U = {1, 2, 3, 4, 5, 6, 7, 8, 9, 10}\n",
    "s = [{1, 2, 3, 8}, {2, 1, 3, 4, 8}, \n",
    "     {3, 1, 2, 4}, {4, 2, 3, 5, 7, 8}, \n",
    "     {5, 4, 7, 6}, {6, 5, 7, 9, 10}, \n",
    "     {7, 4, 5, 6}, {8, 1, 2, 4}, {9, 6}, \n",
    "     {10, 6}]\n",
    "\n",
    "\n",
    "combinations = list(itertools.combinations(s, 2))\n",
    "# greedy_set = max(combinations, key=lambda x: len(U.intersection(x)))\n",
    "combinations"
   ]
  },
  {
   "cell_type": "markdown",
   "id": "d1480368",
   "metadata": {},
   "source": [
    "### 일반적인 그리디 알고리즘으로 최소해를 찾기 힘든 경우"
   ]
  },
  {
   "cell_type": "code",
   "execution_count": 2,
   "id": "dbe4b3d9",
   "metadata": {},
   "outputs": [
    {
     "name": "stdout",
     "output_type": "stream",
     "text": [
      "선택된 s 집합들:\n",
      "{1, 2, 3}  {5, 6, 7}  {3, 4, 5}  {8, 6, 7}  "
     ]
    }
   ],
   "source": [
    "def set_covered(U, s):\n",
    "    uncovereded = set(U)\n",
    "    covered = []\n",
    "\n",
    "    while uncovereded:\n",
    "        greedy_set = max(s, key=lambda\n",
    "                         x: len(uncovereded.intersection(x)))\n",
    "        covered.append(greedy_set)\n",
    "        uncovereded -= greedy_set\n",
    "    return covered\n",
    "\n",
    "U = {1, 2, 3, 4, 5, 6, 7, 8}\n",
    "s = [{1, 2, 3}, {3, 4, 5}, {5, 6, 7}, {6, 7, 8}]\n",
    "\n",
    "\n",
    "greedy_set_cover = set_covered(U, s)\n",
    "\n",
    "print(\"선택된 s 집합들:\")\n",
    "for s in greedy_set_cover:\n",
    "    print(s,' ', end=\"\") "
   ]
  },
  {
   "cell_type": "markdown",
   "id": "c61b94e0",
   "metadata": {},
   "source": [
    "### Greedy set cover"
   ]
  },
  {
   "cell_type": "code",
   "execution_count": 180,
   "id": "350a64c8",
   "metadata": {},
   "outputs": [
    {
     "name": "stdout",
     "output_type": "stream",
     "text": [
      "선택된 s 집합들:\n",
      "{1, 2, 3, 4, 5, 6}  {8, 9, 7}  {4, 5, 6, 9, 10}  "
     ]
    }
   ],
   "source": [
    "def set_covered(U, s):\n",
    "    uncovereded = set(U)\n",
    "    covered = []\n",
    "\n",
    "    while uncovereded:\n",
    "        greedy_set = max(s, key=lambda x: len(uncovereded.intersection(x))) \n",
    "        covered.append(greedy_set)\n",
    "        uncovereded -= greedy_set\n",
    "    return covered\n",
    "\n",
    "U = {1, 2, 3, 4, 5, 6, 7, 8, 9, 10}\n",
    "s = [{1, 2, 3, 4, 5, 6}, {1, 2, 3, 7, 8}, {4, 5, 6, 9, 10}, {7, 8, 9}, {10}]\n",
    "\n",
    "\n",
    "greedy_set_cover = set_covered(U, s)\n",
    "\n",
    "print(\"선택된 s 집합들:\")\n",
    "for s in greedy_set_cover:\n",
    "    print(s,' ', end=\"\") "
   ]
  },
  {
   "cell_type": "markdown",
   "id": "15b779c7",
   "metadata": {},
   "source": [
    "### 만드는 중인 bigstep 알고리즘"
   ]
  },
  {
   "cell_type": "markdown",
   "id": "6b9b5c96",
   "metadata": {},
   "source": [
    "#### 조합된 com에 들어가야 되는 요소 - 원래 배열의 인덱스, 두 배열의 조합의 set"
   ]
  },
  {
   "cell_type": "code",
   "execution_count": 42,
   "id": "14f5fa71",
   "metadata": {},
   "outputs": [
    {
     "ename": "TypeError",
     "evalue": "list indices must be integers or slices, not set",
     "output_type": "error",
     "traceback": [
      "\u001b[1;31m---------------------------------------------------------------------------\u001b[0m",
      "\u001b[1;31mTypeError\u001b[0m                                 Traceback (most recent call last)",
      "\u001b[1;32m~\\AppData\\Local\\Temp\\ipykernel_17324\\2814828545.py\u001b[0m in \u001b[0;36m<module>\u001b[1;34m\u001b[0m\n\u001b[0;32m     26\u001b[0m \u001b[1;33m\u001b[0m\u001b[0m\n\u001b[0;32m     27\u001b[0m \u001b[1;33m\u001b[0m\u001b[0m\n\u001b[1;32m---> 28\u001b[1;33m \u001b[0mgreedy_set_cover\u001b[0m \u001b[1;33m=\u001b[0m \u001b[0mset_covered\u001b[0m\u001b[1;33m(\u001b[0m\u001b[0mU\u001b[0m\u001b[1;33m,\u001b[0m \u001b[0ms\u001b[0m\u001b[1;33m)\u001b[0m\u001b[1;33m\u001b[0m\u001b[1;33m\u001b[0m\u001b[0m\n\u001b[0m\u001b[0;32m     29\u001b[0m \u001b[1;33m\u001b[0m\u001b[0m\n\u001b[0;32m     30\u001b[0m \u001b[0mprint\u001b[0m\u001b[1;33m(\u001b[0m\u001b[1;34m\"선택된 s 집합들:\"\u001b[0m\u001b[1;33m)\u001b[0m\u001b[1;33m\u001b[0m\u001b[1;33m\u001b[0m\u001b[0m\n",
      "\u001b[1;32m~\\AppData\\Local\\Temp\\ipykernel_17324\\2814828545.py\u001b[0m in \u001b[0;36mset_covered\u001b[1;34m(U, s)\u001b[0m\n\u001b[0;32m     16\u001b[0m         \u001b[0munique_merged_combinations\u001b[0m \u001b[1;33m=\u001b[0m \u001b[0mlist\u001b[0m\u001b[1;33m(\u001b[0m\u001b[0mset\u001b[0m\u001b[1;33m(\u001b[0m\u001b[0mmerged_combinations\u001b[0m\u001b[1;33m)\u001b[0m\u001b[1;33m)\u001b[0m\u001b[1;33m\u001b[0m\u001b[1;33m\u001b[0m\u001b[0m\n\u001b[0;32m     17\u001b[0m         \u001b[0mcombs_index\u001b[0m \u001b[1;33m=\u001b[0m \u001b[0mlist\u001b[0m\u001b[1;33m(\u001b[0m\u001b[0mzip\u001b[0m\u001b[1;33m(\u001b[0m\u001b[0munique_merged_combinations\u001b[0m\u001b[1;33m,\u001b[0m \u001b[0mindices\u001b[0m\u001b[1;33m)\u001b[0m\u001b[1;33m)\u001b[0m\u001b[1;33m\u001b[0m\u001b[1;33m\u001b[0m\u001b[0m\n\u001b[1;32m---> 18\u001b[1;33m         greedy_set = max(s, key=lambda x: \n\u001b[0m\u001b[0;32m     19\u001b[0m                          len(uncovereded.intersection(combs_index[x][0]))) \n\u001b[0;32m     20\u001b[0m         \u001b[0mcovered\u001b[0m\u001b[1;33m.\u001b[0m\u001b[0mappend\u001b[0m\u001b[1;33m(\u001b[0m\u001b[0mgreedy_set\u001b[0m\u001b[1;33m)\u001b[0m\u001b[1;33m\u001b[0m\u001b[1;33m\u001b[0m\u001b[0m\n",
      "\u001b[1;32m~\\AppData\\Local\\Temp\\ipykernel_17324\\2814828545.py\u001b[0m in \u001b[0;36m<lambda>\u001b[1;34m(x)\u001b[0m\n\u001b[0;32m     17\u001b[0m         \u001b[0mcombs_index\u001b[0m \u001b[1;33m=\u001b[0m \u001b[0mlist\u001b[0m\u001b[1;33m(\u001b[0m\u001b[0mzip\u001b[0m\u001b[1;33m(\u001b[0m\u001b[0munique_merged_combinations\u001b[0m\u001b[1;33m,\u001b[0m \u001b[0mindices\u001b[0m\u001b[1;33m)\u001b[0m\u001b[1;33m)\u001b[0m\u001b[1;33m\u001b[0m\u001b[1;33m\u001b[0m\u001b[0m\n\u001b[0;32m     18\u001b[0m         greedy_set = max(s, key=lambda x: \n\u001b[1;32m---> 19\u001b[1;33m                          len(uncovereded.intersection(combs_index[x][0]))) \n\u001b[0m\u001b[0;32m     20\u001b[0m         \u001b[0mcovered\u001b[0m\u001b[1;33m.\u001b[0m\u001b[0mappend\u001b[0m\u001b[1;33m(\u001b[0m\u001b[0mgreedy_set\u001b[0m\u001b[1;33m)\u001b[0m\u001b[1;33m\u001b[0m\u001b[1;33m\u001b[0m\u001b[0m\n\u001b[0;32m     21\u001b[0m         \u001b[0muncovereded\u001b[0m \u001b[1;33m-=\u001b[0m \u001b[0mgreedy_set\u001b[0m\u001b[1;33m\u001b[0m\u001b[1;33m\u001b[0m\u001b[0m\n",
      "\u001b[1;31mTypeError\u001b[0m: list indices must be integers or slices, not set"
     ]
    }
   ],
   "source": [
    "from itertools import combinations\n",
    "\n",
    "def set_covered(U, s):\n",
    "    uncovereded = set(U)\n",
    "    covered = []\n",
    "\n",
    "    while uncovereded:\n",
    "        combs = list(combinations(s, 2))\n",
    "        merged_combinations = []\n",
    "        indices = []\n",
    "\n",
    "        for comb in combs:\n",
    "            merged_combinations.append(frozenset(comb[0] | comb[1]))\n",
    "            indices.append((s.index(comb[0]), s.index(comb[1])))\n",
    "\n",
    "        unique_merged_combinations = list(set(merged_combinations))\n",
    "        combs_index = list(zip(unique_merged_combinations, indices))\n",
    "        greedy_set = max(s, key=lambda x: \n",
    "                         len(uncovereded.intersection(combs_index[x][0]))) \n",
    "        covered.append(greedy_set)\n",
    "        uncovereded -= greedy_set\n",
    "    return covered\n",
    "\n",
    "U = {1, 2, 3, 4, 5, 6, 7, 8, 9, 10}\n",
    "s = [{1, 2, 3, 4, 5, 6}, {1, 2, 3, 7, 8}, {4, 5, 6, 9, 10}, {7, 8, 9}, {10}]\n",
    "\n",
    "\n",
    "greedy_set_cover = set_covered(U, s)\n",
    "\n",
    "print(\"선택된 s 집합들:\")\n",
    "for s in greedy_set_cover:\n",
    "    print(s,' ', end=\"\") "
   ]
  },
  {
   "cell_type": "code",
   "execution_count": 48,
   "id": "001195c7",
   "metadata": {},
   "outputs": [
    {
     "name": "stdout",
     "output_type": "stream",
     "text": [
      "[frozenset({1, 2, 3, 4, 5, 6, 7, 8}), frozenset({1, 2, 3, 4, 5, 6, 9, 10}), frozenset({1, 2, 3, 4, 5, 6, 7, 8, 9}), frozenset({1, 2, 3, 4, 5, 6, 10}), frozenset({1, 2, 3, 4, 5, 6, 7, 8, 9, 10}), frozenset({1, 2, 3, 7, 8, 9}), frozenset({1, 2, 3, 7, 8, 10}), frozenset({4, 5, 6, 7, 8, 9, 10}), frozenset({4, 5, 6, 9, 10}), frozenset({8, 9, 10, 7})]\n",
      "선택된 s 집합들:\n",
      "frozenset({1, 2, 3, 4, 5, 6, 7, 8, 9, 10}) "
     ]
    }
   ],
   "source": [
    "from itertools import combinations\n",
    "\n",
    "def set_covered(U, s):\n",
    "    uncovereded = set(U)\n",
    "    covered = []\n",
    "\n",
    "    while uncovereded:\n",
    "        combs = list(combinations(s, 2))\n",
    "        merged_combinations = []\n",
    "        indices = []\n",
    "\n",
    "        for comb in combs:\n",
    "            merged_combinations.append(frozenset(comb[0] | comb[1]))\n",
    "            indices.append((s.index(comb[0]), s.index(comb[1])))\n",
    "\n",
    "        unique_merged_combinations = list(set(merged_combinations))\n",
    "        print(merged_combinations)\n",
    "        greedy_set = max(unique_merged_combinations, key=lambda x: len(uncovereded.intersection(x)))\n",
    "        covered.append(greedy_set) #여기가 따른게 들어가야함\n",
    "        uncovereded -= greedy_set\n",
    "    return covered\n",
    "\n",
    "U = {1, 2, 3, 4, 5, 6, 7, 8, 9, 10}\n",
    "s = [{1, 2, 3, 4, 5, 6}, {1, 2, 3, 7, 8}, {4, 5, 6, 9, 10}, {7, 8, 9}, {10}]\n",
    "\n",
    "greedy_set_cover = set_covered(U, s)\n",
    "\n",
    "print(\"선택된 s 집합들:\")\n",
    "for s in greedy_set_cover:\n",
    "    print(s, end=\" \")\n"
   ]
  },
  {
   "cell_type": "code",
   "execution_count": 41,
   "id": "6d65c599",
   "metadata": {},
   "outputs": [
    {
     "name": "stdout",
     "output_type": "stream",
     "text": [
      "[(frozenset({1, 2, 3, 4, 5, 6, 7, 8, 9, 10}), (0, 1)), (frozenset({1, 2, 3, 4, 5, 6, 7, 8, 9}), (0, 2)), (frozenset({1, 2, 3, 4, 5, 6, 10}), (0, 3)), (frozenset({1, 2, 3, 4, 5, 6, 7, 8}), (0, 4)), (frozenset({4, 5, 6, 7, 8, 9, 10}), (1, 2)), (frozenset({1, 2, 3, 7, 8, 10}), (1, 3)), (frozenset({4, 5, 6, 9, 10}), (1, 4)), (frozenset({1, 2, 3, 7, 8, 9}), (2, 3)), (frozenset({8, 9, 10, 7}), (2, 4)), (frozenset({1, 2, 3, 4, 5, 6, 9, 10}), (3, 4))]\n"
     ]
    }
   ],
   "source": [
    "from itertools import combinations\n",
    "\n",
    "s = [{1, 2, 3, 4, 5, 6}, {1, 2, 3, 7, 8}, {4, 5, 6, 9, 10}, {7, 8, 9}, {10}]\n",
    "\n",
    "combs = list(combinations(s, 2))\n",
    "merged_combinations = []\n",
    "indices = []\n",
    "\n",
    "for comb in combs:\n",
    "    merged_combinations.append(frozenset(comb[0] | comb[1]))\n",
    "    indices.append((s.index(comb[0]), s.index(comb[1])))\n",
    "\n",
    "unique_merged_combinations = list(set(merged_combinations))\n",
    "results = list(zip(unique_merged_combinations, indices))\n",
    "\n",
    "print(results)\n"
   ]
  },
  {
   "cell_type": "markdown",
   "id": "45747e05",
   "metadata": {},
   "source": [
    "### gpt가 짜준 동적계획법 최적해 찾기"
   ]
  },
  {
   "cell_type": "code",
   "execution_count": 55,
   "id": "774c9e5e",
   "metadata": {},
   "outputs": [
    {
     "name": "stdout",
     "output_type": "stream",
     "text": [
      "선택된 s 집합들:\n",
      "{1, 2, 3, 4, 5, 6}\n",
      "{8, 9, 7}\n",
      "{10}\n",
      "{1, 2, 3, 7, 8}\n",
      "{4, 5, 6, 9, 10}\n"
     ]
    }
   ],
   "source": [
    "from itertools import combinations\n",
    "\n",
    "def set_covered(U, s):\n",
    "    n = len(s)  # s의 원소 개수\n",
    "\n",
    "    # 동적 계획법을 위한 dp 배열 초기화\n",
    "    dp = [float('inf')] * (1 << n)\n",
    "    dp[0] = 0\n",
    "\n",
    "    for mask in range(1, 1 << n):\n",
    "        for i in range(n):\n",
    "            if mask & (1 << i):\n",
    "                prev_mask = mask ^ (1 << i)\n",
    "                covered = set.union(*(s[j] for j in range(n) if prev_mask & (1 << j)), set())\n",
    "                dp[mask] = min(dp[mask], dp[prev_mask] + len(U - covered))\n",
    "\n",
    "    # 최적해 추적\n",
    "    selected_sets = []\n",
    "    mask = (1 << n) - 1\n",
    "    while mask:\n",
    "        for i in range(n):\n",
    "            if mask & (1 << i) and dp[mask] == dp[mask ^ (1 << i)] + len(U - set.union(*(s[j] for j in range(n) if (mask ^ (1 << i)) & (1 << j)), set())):  # 최적해를 만족하는 경우\n",
    "                selected_sets.append(s[i])\n",
    "                mask ^= (1 << i)\n",
    "                break\n",
    "\n",
    "    return selected_sets\n",
    "\n",
    "U = {1, 2, 3, 4, 5, 6, 7, 8, 9, 10}\n",
    "s = [{1, 2, 3, 4, 5, 6}, {1, 2, 3, 7, 8}, {4, 5, 6, 9, 10}, {7, 8, 9}, {10}]\n",
    "\n",
    "optimal_set_cover = set_covered(U, s)\n",
    "\n",
    "print(\"선택된 s 집합들:\")\n",
    "for s_set in optimal_set_cover:\n",
    "    print(s_set)\n"
   ]
  },
  {
   "cell_type": "code",
   "execution_count": null,
   "id": "4aebf539",
   "metadata": {},
   "outputs": [],
   "source": [
    "from itertools import combinations\n",
    "\n",
    "def set_covered(U, s):\n",
    "    n = len(s)  # s의 원소 개수\n",
    "\n",
    "    # 동적 계획법을 위한 dp 배열 초기화\n",
    "    dp = [float('inf')] * (1 << n)\n",
    "    dp[0] = 0\n",
    "\n",
    "    for mask in range(1, 1 << n):\n",
    "        for i in range(n):\n",
    "            if mask & (1 << i):\n",
    "                prev_mask = mask ^ (1 << i)\n",
    "                covered = set.union(*(s[j] for j in range(n) if prev_mask & (1 << j)), set())\n",
    "                dp[mask] = min(dp[mask], dp[prev_mask] + len(U - covered))\n",
    "\n",
    "    # 최적해 추적\n",
    "    selected_sets = []\n",
    "    mask = (1 << n) - 1\n",
    "    while mask:\n",
    "        for i in range(n):\n",
    "            if mask & (1 << i) and dp[mask] == dp[mask ^ (1 << i)] + len(U - set.union(*(s[j] for j in range(n) if (mask ^ (1 << i)) & (1 << j)), set())):  # 최적해를 만족하는 경우\n",
    "                selected_sets.append(s[i])\n",
    "                mask ^= (1 << i)\n",
    "                break\n",
    "\n",
    "    return selected_sets\n",
    "\n",
    "U = {1, 2, 3, 4, 5, 6, 7, 8, 9, 10}\n",
    "s = [{1, 2, 3, 4, 5, 6}, {1, 2, 3, 7, 8}, {4, 5, 6, 9, 10}, {7, 8, 9}, {10}]\n",
    "\n",
    "optimal_set_cover = set_covered(U, s)\n",
    "\n",
    "print(\"선택된 s 집합들:\")\n",
    "for s_set in optimal_set_cover:\n",
    "    print(s_set)\n"
   ]
  },
  {
   "cell_type": "code",
   "execution_count": 28,
   "id": "9d59bedb",
   "metadata": {},
   "outputs": [
    {
     "data": {
      "text/plain": [
       "[({1, 2, 3, 4, 5, 6}, {1, 2, 3, 7, 8}),\n",
       " ({1, 2, 3, 4, 5, 6}, {4, 5, 6, 9, 10}),\n",
       " ({1, 2, 3, 4, 5, 6}, {7, 8, 9}),\n",
       " ({1, 2, 3, 4, 5, 6}, {10}),\n",
       " ({1, 2, 3, 7, 8}, {4, 5, 6, 9, 10}),\n",
       " ({1, 2, 3, 7, 8}, {7, 8, 9}),\n",
       " ({1, 2, 3, 7, 8}, {10}),\n",
       " ({4, 5, 6, 9, 10}, {7, 8, 9}),\n",
       " ({4, 5, 6, 9, 10}, {10}),\n",
       " ({7, 8, 9}, {10})]"
      ]
     },
     "execution_count": 28,
     "metadata": {},
     "output_type": "execute_result"
    }
   ],
   "source": [
    "import numpy as np\n",
    "from itertools import combinations\n",
    "\n",
    "U = {1, 2, 3, 4, 5, 6, 7, 8, 9, 10}\n",
    "s = [{1, 2, 3, 4, 5, 6}, {1, 2, 3, 7, 8}, {4, 5, 6, 9, 10}, {7, 8, 9}, {10}]\n",
    "\n",
    "c = combinations(s, 2)\n",
    "c = list(c)\n",
    "c\n"
   ]
  },
  {
   "cell_type": "markdown",
   "id": "33e90931",
   "metadata": {},
   "source": [
    "### Big Step 그리디 by chatGPT"
   ]
  },
  {
   "cell_type": "code",
   "execution_count": 100,
   "id": "1d22b095",
   "metadata": {},
   "outputs": [
    {
     "name": "stdout",
     "output_type": "stream",
     "text": [
      "Selected sets:\n",
      "{1, 2, 3}\n",
      "{3, 4, 5}\n",
      "{5, 6, 7}\n",
      "{8, 6, 7}\n"
     ]
    }
   ],
   "source": [
    "from itertools import combinations\n",
    "\n",
    "def set_cover(universe, sets):\n",
    "    uncovered = set(universe)\n",
    "    cover = []\n",
    "\n",
    "    while uncovered:\n",
    "        # 선택된 집합들을 합집합하여 가장 많은 원소를 커버하는 집합 선택\n",
    "        union_sets = [set.union(*[sets[i] for i in combination]) for combination in combinations(range(len(sets)), len(cover) + 1)]\n",
    "        union_sets = list(set().union(*union_sets))  # 중복 제거\n",
    "        if not union_sets:\n",
    "            break\n",
    "        best_set = max(sets, key=lambda s: len(uncovered.intersection(set().union(union_sets, s))) if s not in cover else 0)\n",
    "        if best_set not in cover:\n",
    "            cover.append(best_set)\n",
    "        uncovered -= best_set\n",
    "\n",
    "    return cover\n",
    "\n",
    "# 예시 입력\n",
    "universe = {1, 2, 3, 4, 5, 6, 7, 8}\n",
    "sets = [{1, 2, 3}, {3, 4, 5}, {5, 6, 7}, {6, 7, 8}]# 집합 커버 계산\n",
    "\n",
    "# 집합 커버 계산\n",
    "cover = set_cover(universe, sets)\n",
    "\n",
    "# 결과 출력\n",
    "print(\"Selected sets:\")\n",
    "for s in cover:\n",
    "    print(s)"
   ]
  },
  {
   "cell_type": "markdown",
   "id": "b9d7aebd",
   "metadata": {},
   "source": [
    "### univer가 100개 이고 sets가 이를 포함할 확률이 30% 일때 그리디"
   ]
  },
  {
   "cell_type": "markdown",
   "id": "71516b47",
   "metadata": {},
   "source": [
    "#### sets 생성 방식"
   ]
  },
  {
   "cell_type": "code",
   "execution_count": 5,
   "id": "f495f479",
   "metadata": {},
   "outputs": [],
   "source": [
    "def generate_sets(num_points, probability, num_sets):\n",
    "    sets = []\n",
    "\n",
    "    for _ in range(num_sets):\n",
    "        new_set = set()\n",
    "        for point in range(1, num_points + 1):\n",
    "            if random.random() <= probability:\n",
    "                new_set.add(point)\n",
    "        sets.append(new_set)\n",
    "\n",
    "    return sets\n",
    "\n",
    "sets = generate_sets(num_points, probability, num_sets)"
   ]
  },
  {
   "cell_type": "code",
   "execution_count": 7,
   "id": "7913f8b3",
   "metadata": {},
   "outputs": [
    {
     "name": "stdout",
     "output_type": "stream",
     "text": [
      "set_total의 총 갯수 3\n"
     ]
    }
   ],
   "source": [
    "def set_cover(universe, sets):\n",
    "    # 커버되지 않은 원소들을 담을 집합\n",
    "    uncovered = set(universe)\n",
    "    # 선택된 집합들을 담을 리스트\n",
    "    cover = []\n",
    "\n",
    "    while uncovered:\n",
    "        # 커버되지 않은 원소들 중에서 가장 많은 원소를 커버하는 집합을 선택\n",
    "        best_set = max(sets, key=lambda x: len(uncovered.intersection(x)))\n",
    "        # 선택된 집합을 커버에 추가\n",
    "        cover.append(best_set)\n",
    "        # 선택된 집합에 속한 원소들은 커버되었다고 표시\n",
    "        uncovered -= best_set\n",
    "\n",
    "    return cover\n",
    "\n",
    "# 예시 입력\n",
    "\n",
    "def generate_sets(num_points, probability, num_sets): # 100개의 점, 확률, sets의 개수\n",
    "    universe = set(range(1, num_points + 1))\n",
    "    sets = []\n",
    "\n",
    "    for _ in range(num_sets):\n",
    "        new_set = set()\n",
    "        for point in range(1, num_points + 1):\n",
    "            if random.random() <= probability:\n",
    "                new_set.add(point)\n",
    "        sets.append(new_set)\n",
    "\n",
    "    return sets\n",
    "\n",
    "sets = generate_sets(100, 0.3, 30)\n",
    "cover = set_cover(universe, sets)\n",
    "\n",
    "sets_total = 0\n",
    "# 결과 출력\n",
    "for s in cover:\n",
    "    sets_total+=1\n",
    "print('set_total의 총 갯수 {}'.format(sets_total))"
   ]
  },
  {
   "cell_type": "markdown",
   "id": "a8fade13",
   "metadata": {},
   "source": [
    "#### 1000번 반복후 (건물) 경우의 수"
   ]
  },
  {
   "cell_type": "code",
   "execution_count": 186,
   "id": "0b6028bd",
   "metadata": {
    "scrolled": true
   },
   "outputs": [
    {
     "name": "stdout",
     "output_type": "stream",
     "text": [
      "set_total이 5인 경우의 개수: 54\n",
      "set_total이 6인 경우의 개수: 854\n",
      "set_total이 7인 경우의 개수: 92\n"
     ]
    }
   ],
   "source": [
    "import random\n",
    "from collections import defaultdict\n",
    "\n",
    "def set_cover(universe, sets):\n",
    "    uncovered = set(universe)\n",
    "    cover = []\n",
    "    while uncovered:\n",
    "        best_set = max(sets, key=lambda x: len(uncovered.intersection(x)))\n",
    "        cover.append(best_set)\n",
    "        uncovered -= best_set\n",
    "    return cover\n",
    "\n",
    "def generate_sets(num_points, probability, num_sets):\n",
    "    universe = set(range(1, num_points + 1))\n",
    "    sets = []\n",
    "    for _ in range(num_sets):\n",
    "        new_set = set()\n",
    "        for point in range(1, num_points + 1):\n",
    "            if random.random() <= probability:\n",
    "                new_set.add(point)\n",
    "        sets.append(new_set)\n",
    "    return sets\n",
    "\n",
    "num_points = 100 # 요소 개수 \n",
    "num_sets = 100 # 부분 집합 개수\n",
    "probability = 0.3 # 부분 집합이 집합의 각 요소를 포함할 확률\n",
    "n = 1000 # 반복 실행 횟수\n",
    "\n",
    "set_totals = defaultdict(int)\n",
    "\n",
    "for _ in range(n):\n",
    "    sets = generate_sets(num_points, probability, num_sets)\n",
    "    cover = set_cover(set(range(1, num_points + 1)), sets)\n",
    "    set_totals[len(cover)] += 1\n",
    "    \n",
    "sorted_totals = sorted(set_totals.items(), key=lambda x: x[0])\n",
    "\n",
    "for length, count in sorted_totals:\n",
    "    print(f'set_total이 {length}인 경우의 개수: {count}')"
   ]
  },
  {
   "cell_type": "code",
   "execution_count": null,
   "id": "b152a185",
   "metadata": {},
   "outputs": [],
   "source": []
  }
 ],
 "metadata": {
  "kernelspec": {
   "display_name": "Python 3 (ipykernel)",
   "language": "python",
   "name": "python3"
  },
  "language_info": {
   "codemirror_mode": {
    "name": "ipython",
    "version": 3
   },
   "file_extension": ".py",
   "mimetype": "text/x-python",
   "name": "python",
   "nbconvert_exporter": "python",
   "pygments_lexer": "ipython3",
   "version": "3.9.13"
  }
 },
 "nbformat": 4,
 "nbformat_minor": 5
}
