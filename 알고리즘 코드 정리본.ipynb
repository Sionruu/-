{
 "cells": [
  {
   "cell_type": "markdown",
   "id": "cc7981c9",
   "metadata": {},
   "source": [
    "# 일반적인 셋 커버"
   ]
  },
  {
   "cell_type": "code",
   "execution_count": 24,
   "id": "428479d5",
   "metadata": {},
   "outputs": [],
   "source": [
    "def set_cover(U, s):\n",
    "    uncovered = U\n",
    "    covered = []\n",
    "\n",
    "    while uncovered:\n",
    "        best_set = max(s, key=lambda x: len(uncovered.intersection(set(x))))\n",
    "        covered.append(best_set)\n",
    "        uncovered -= set(best_set)\n",
    "    return covered"
   ]
  },
  {
   "cell_type": "code",
   "execution_count": 25,
   "id": "bd003233",
   "metadata": {},
   "outputs": [
    {
     "name": "stdout",
     "output_type": "stream",
     "text": [
      "[{1, 2, 3, 4, 5, 6}, {3, 5, 6, 8, 9}, {1, 2, 4, 5, 7}]\n"
     ]
    }
   ],
   "source": [
    "U = {1, 2, 3, 4, 5, 6, 7, 8, 9}\n",
    "S = [{1, 2, 3, 4, 5, 6}, {1, 2, 4, 5, 7}, {3, 5, 6, 8, 9}, {6, 9}]\n",
    "result = set_cover(U, S)\n",
    "print(result)"
   ]
  },
  {
   "cell_type": "markdown",
   "id": "68cd9d8d",
   "metadata": {},
   "source": [
    "## 최적해에 더 근접하는 개선된 셋커버"
   ]
  },
  {
   "cell_type": "code",
   "execution_count": 26,
   "id": "f32b924a",
   "metadata": {},
   "outputs": [],
   "source": [
    "# 요소의 고유갑 구하기\n",
    "def find_eigen(sets):\n",
    "    fre = {}\n",
    "    for subset in sets:\n",
    "        for element in subset:\n",
    "            if element in fre:\n",
    "                fre[element] += 1\n",
    "            else:\n",
    "                fre[element] = 1\n",
    "    return fre\n",
    "\n",
    "# 초기의 길이를 저장\n",
    "#(부분집합이 univer에 포함되기 때문에 부분집합이 가지는 갯수만 구하여도 가장 큰 값이 가장 그리디한 선택이 될수있음)\n",
    "def find_initialsizes(sets):\n",
    "    initial_sizes = {}\n",
    "    for i, subset in enumerate(sets):\n",
    "        initial_sizes[i+1] = len(subset)\n",
    "    return initial_sizes\n",
    "\n",
    "def set_cover_improved(universe, sets):\n",
    "    uncovered = universe\n",
    "    result = [] # 결과값이 담길 공간\n",
    "    while uncovered: # univer가 존재하면 계속 반복하여 모든 요소를 커버해라\n",
    "        bestSubset = {}\n",
    "        bestCovered = {}\n",
    "        for subset in sets:\n",
    "            covered = subset & uncovered\n",
    "            if len(covered) > len(bestCovered):\n",
    "                bestSubset = subset \n",
    "                bestCovered = covered\n",
    "\n",
    "        # 중복되는 그리디값이 있다면 초기의 길이가 긴것을 저장\n",
    "        if len([subset for subset in sets if len(subset & uncovered) == len(bestCovered)])>1:\n",
    "            initialSizes = find_initialsizes(sets)\n",
    "            bestSubset = max([subset for subset in sets if len(set(subset) & uncovered) == len(bestCovered)],\n",
    "                             key=lambda x: initialSizes[sets.index(x)+1])\n",
    "        \n",
    "        result.append(bestSubset)\n",
    "        uncovered -= bestCovered\n",
    "\n",
    "    frequencies = find_eigen(result)\n",
    "    # 선택된 값들 중 고유값을 포함하지 않는 집합들을 삭제하는 과정\n",
    "    for subset in result:\n",
    "        if all(frequencies[element] != 1 for element in subset):\n",
    "            result.remove(subset)\n",
    "\n",
    "    return result"
   ]
  },
  {
   "cell_type": "code",
   "execution_count": 37,
   "id": "8835e15b",
   "metadata": {},
   "outputs": [
    {
     "name": "stdout",
     "output_type": "stream",
     "text": [
      "개선된 셋커버:  [{3, 5, 6, 8, 9}, {1, 2, 4, 5, 7}]\n"
     ]
    }
   ],
   "source": [
    "U = {1, 2, 3, 4, 5, 6, 7, 8, 9}\n",
    "s = [{1, 2, 3, 4, 5, 6}, {1, 2, 4, 5, 7}, {3, 5, 6, 8, 9}, {6, 9}]\n",
    "result = set_cover_improved(U, s)\n",
    "print('개선된 셋커버: ', result)"
   ]
  },
  {
   "cell_type": "markdown",
   "id": "9118e872",
   "metadata": {},
   "source": [
    "## 그리디와 improved 그리디 난수환경 비교"
   ]
  },
  {
   "cell_type": "markdown",
   "id": "c9ef7246",
   "metadata": {},
   "source": [
    "#### 조금더 이해하기 쉽게 설계된 코드는 해당 환경에서 동작 오류가 남(아래도 다 오류가 날꺼 같으므로 최종본 확인)"
   ]
  },
  {
   "cell_type": "code",
   "execution_count": 38,
   "id": "a8d9744f",
   "metadata": {},
   "outputs": [
    {
     "name": "stdout",
     "output_type": "stream",
     "text": [
      "set_total이 5인 경우의 개수 (그리디 알고리즘): 46\n",
      "set_total이 6인 경우의 개수 (그리디 알고리즘): 875\n",
      "set_total이 7인 경우의 개수 (그리디 알고리즘): 79\n",
      "==================================================\n",
      "set_total이 4인 경우의 개수 (개선된 알고리즘): 8\n",
      "set_total이 5인 경우의 개수 (개선된 알고리즘): 174\n",
      "set_total이 6인 경우의 개수 (개선된 알고리즘): 778\n",
      "set_total이 7인 경우의 개수 (개선된 알고리즘): 40\n"
     ]
    }
   ],
   "source": [
    "import random\n",
    "from collections import defaultdict\n",
    "\n",
    "# 난수 환경 생성\n",
    "def generate_sets(num_points, probability, num_sets):\n",
    "    universe = set(range(1, num_points + 1))\n",
    "    sets = []\n",
    "    for _ in range(num_sets):\n",
    "        new_set = set()\n",
    "        for point in range(1, num_points + 1):\n",
    "            if random.random() <= probability:\n",
    "                new_set.add(point)\n",
    "        sets.append(new_set)\n",
    "    return sets, universe\n",
    "\n",
    "num_points = 100  # 요소 개수 \n",
    "num_sets = 100  # 부분 집합 개수\n",
    "probability = 0.3  # 부분 집합이 집합의 각 요소를 포함할 확률\n",
    "n = 1000  # 반복 실행 횟수\n",
    "\n",
    "greedy_set_totals = defaultdict(int)\n",
    "improved_set_totals = defaultdict(int)\n",
    "\n",
    "for _ in range(n):\n",
    "    sets, universe = generate_sets(num_points, probability, num_sets)\n",
    "    greedy_cover = set_cover(universe, sets)\n",
    "    improved_cover = set_cover_improved(universe, sets)\n",
    "    greedy_set_totals[len(greedy_cover)] += 1\n",
    "    improved_set_totals[len(improved_cover)] += 1\n",
    "\n",
    "sorted_greedy_totals = sorted(greedy_set_totals.items(), key=lambda x: x[0])\n",
    "sorted_improved_totals = sorted(improved_set_totals.items(), key=lambda x: x[0])\n",
    "\n",
    "for length, count in sorted_greedy_totals:\n",
    "    print(f'set_total이 {length}인 경우의 개수 (그리디 알고리즘): {count}')\n",
    "\n",
    "print(\"=\"*50)\n",
    "    \n",
    "for length, count in sorted_improved_totals:\n",
    "    print(f'set_total이 {length}인 경우의 개수 (개선된 알고리즘): {count}')"
   ]
  },
  {
   "cell_type": "markdown",
   "id": "45caf32c",
   "metadata": {},
   "source": [
    "# 수행시간 비교"
   ]
  },
  {
   "cell_type": "markdown",
   "id": "16fcae74",
   "metadata": {},
   "source": [
    "#### n번 반복하는 난수 환경에서도 작동되게 다시 코딩"
   ]
  },
  {
   "cell_type": "code",
   "execution_count": 39,
   "id": "7c45e119",
   "metadata": {},
   "outputs": [],
   "source": [
    "def calculateSubsetFrequencies(sets):\n",
    "    frequencies = {}\n",
    "    for subset in sets:\n",
    "        for element in subset:\n",
    "            if element in frequencies:\n",
    "                frequencies[element] += 1\n",
    "            else:\n",
    "                frequencies[element] = 1\n",
    "\n",
    "    return frequencies\n",
    "\n",
    "\n",
    "def calculateSubsetInitialSizes(sets):\n",
    "    initial_sizes = {}\n",
    "    for i, subset in enumerate(sets):\n",
    "        initial_sizes[i+1] = len(subset)\n",
    "\n",
    "    return initial_sizes\n",
    "\n",
    "\n",
    "def set_cover_improved(universe, sets):\n",
    "    universe = universe\n",
    "    for subset in sets:\n",
    "        universe |= set(subset)\n",
    "\n",
    "    optimalCover = []\n",
    "    while universe:\n",
    "        bestSubset = None\n",
    "        bestCovered = set()\n",
    "        for subset in sets:\n",
    "            covered = set(subset) & universe\n",
    "            if len(covered) > len(bestCovered):\n",
    "                bestSubset = subset\n",
    "                bestCovered = covered\n",
    "\n",
    "        if bestSubset is None:\n",
    "            break\n",
    "\n",
    "        if len([subset for subset in sets if len(set(subset) & universe) == len(bestCovered)]) > 1:\n",
    "            initialSizes = calculateSubsetInitialSizes(sets)\n",
    "            bestSubset = max([subset for subset in sets if len(set(subset) & universe) == len(bestCovered)],\n",
    "                             key=lambda x: initialSizes[sets.index(x)+1])\n",
    "        \n",
    "        optimalCover.append(bestSubset)\n",
    "        universe -= bestCovered\n",
    "        sets.remove(bestSubset)\n",
    "\n",
    "    frequencies = calculateSubsetFrequencies(optimalCover)\n",
    "    updatedOptimalCover = []\n",
    "    deletedOptimalCover = []\n",
    "\n",
    "    for subset in optimalCover:\n",
    "        if any(frequencies[element] == 1 for element in subset):\n",
    "            updatedOptimalCover.append(subset)\n",
    "        elif all(frequencies[element] != 1 for element in subset):\n",
    "            deletedOptimalCover.append(subset)\n",
    "\n",
    "    return updatedOptimalCover\n"
   ]
  },
  {
   "cell_type": "markdown",
   "id": "b58c61cf",
   "metadata": {},
   "source": [
    "## 일반적인 그리디 알고리즘"
   ]
  },
  {
   "cell_type": "code",
   "execution_count": 40,
   "id": "0a853687",
   "metadata": {},
   "outputs": [
    {
     "name": "stderr",
     "output_type": "stream",
     "text": [
      "C:\\Users\\User\\AppData\\Local\\Temp\\ipykernel_1264\\3982431076.py:15: DeprecationWarning: Sampling from a set deprecated\n",
      "since Python 3.9 and will be removed in a subsequent version.\n",
      "  subset = set(random.sample(universe, subset_size))  # 부분집합 생성\n"
     ]
    },
    {
     "name": "stdout",
     "output_type": "stream",
     "text": [
      "    Input Size  Execution Time\n",
      "0         1000        0.080312\n",
      "1         1500        0.223253\n",
      "2         2000        0.369777\n",
      "3         2500        0.452992\n",
      "4         3000        0.702955\n",
      "5         3500        0.984116\n",
      "6         4000        1.428146\n",
      "7         4500        1.965166\n",
      "8         5000        2.507971\n",
      "9         5500        2.900925\n",
      "10        6000        3.420293\n",
      "11        6500        4.020677\n",
      "12        7000        4.561842\n",
      "13        7500        5.156755\n",
      "14        8000        5.779872\n"
     ]
    }
   ],
   "source": [
    "import time\n",
    "import random\n",
    "import pandas as pd\n",
    "\n",
    "# 입력 크기에 따른 실행 시간 측정\n",
    "#input_sizes = list(range(1000, 4001, 1000))\n",
    "input_sizes = list(range(1000, 8001, 500))\n",
    "execution_times = []\n",
    "random.seed(42)\n",
    "for size in input_sizes:\n",
    "    universe = set(range(1, size+1))\n",
    "    sets = []\n",
    "    for _ in range(size):\n",
    "        subset_size = random.randint(1, size//2)  # 부분집합 크기를 랜덤하게 선택\n",
    "        subset = set(random.sample(universe, subset_size))  # 부분집합 생성\n",
    "        sets.append(subset)\n",
    "        \n",
    "    start_time = time.time()\n",
    "    set_cover(universe, sets)\n",
    "    end_time = time.time()\n",
    "    execution_time = end_time - start_time\n",
    "    execution_times.append(execution_time)\n",
    "\n",
    "# 결과 표 출력\n",
    "set_time = pd.DataFrame({'Input Size': input_sizes, 'Execution Time': execution_times})\n",
    "print(set_time)"
   ]
  },
  {
   "cell_type": "markdown",
   "id": "8f59738f",
   "metadata": {},
   "source": [
    "## 개선된 그리디 알고리즘"
   ]
  },
  {
   "cell_type": "code",
   "execution_count": 41,
   "id": "90333487",
   "metadata": {},
   "outputs": [
    {
     "name": "stderr",
     "output_type": "stream",
     "text": [
      "C:\\Users\\User\\AppData\\Local\\Temp\\ipykernel_1264\\1473673077.py:13: DeprecationWarning: Sampling from a set deprecated\n",
      "since Python 3.9 and will be removed in a subsequent version.\n",
      "  subset = set(random.sample(universe, subset_size))  # 부분집합 생성\n"
     ]
    },
    {
     "name": "stdout",
     "output_type": "stream",
     "text": [
      "    Input Size  Execution Time\n",
      "0         1000        0.187437\n",
      "1         1500        0.540328\n",
      "2         2000        0.734201\n",
      "3         2500        1.187218\n",
      "4         3000        1.577757\n",
      "5         3500        2.624375\n",
      "6         4000        4.077150\n",
      "7         4500        3.929932\n",
      "8         5000        6.567242\n",
      "9         5500        7.935618\n",
      "10        6000        8.904137\n",
      "11        6500        9.716443\n",
      "12        7000       11.796335\n",
      "13        7500       12.497034\n",
      "14        8000       14.533610\n"
     ]
    }
   ],
   "source": [
    "import time\n",
    "import random\n",
    "import pandas as pd\n",
    "\n",
    "input_sizes = list(range(1000, 8001, 500))\n",
    "execution_times = []\n",
    "random.seed(42)\n",
    "for size in input_sizes:\n",
    "    universe = set(range(1, size+1))\n",
    "    sets = []\n",
    "    for _ in range(size):\n",
    "        subset_size = random.randint(1, size//2)  # 부분집합 크기를 랜덤하게 선택\n",
    "        subset = set(random.sample(universe, subset_size))  # 부분집합 생성\n",
    "        sets.append(subset)\n",
    "        \n",
    "    start_time = time.time()\n",
    "    set_cover_improved(universe, sets)\n",
    "    end_time = time.time()\n",
    "    execution_time = end_time - start_time\n",
    "    execution_times.append(execution_time)\n",
    "\n",
    "# 결과 표 출력\n",
    "improved_set_time = pd.DataFrame({'Input Size': input_sizes, 'Execution Time': execution_times})\n",
    "print(improved_set_time)"
   ]
  },
  {
   "cell_type": "markdown",
   "id": "269cbb7f",
   "metadata": {},
   "source": [
    "### 시각화 자료"
   ]
  },
  {
   "cell_type": "code",
   "execution_count": 42,
   "id": "c26e9456",
   "metadata": {},
   "outputs": [
    {
     "data": {
      "image/png": "[encoded data removed]",
      "text/plain": [
       "<Figure size 640x480 with 1 Axes>"
      ]
     },
     "metadata": {},
     "output_type": "display_data"
    }
   ],
   "source": [
    "import matplotlib.pyplot as plt\n",
    "\n",
    "plt.plot(set_time['Input Size'], set_time['Execution Time'], label='set_cover_time')\n",
    "plt.plot(improved_set_time['Input Size'], improved_set_time['Execution Time'], label='improved_set_cover_time')\n",
    "plt.xlabel('Input Size')\n",
    "plt.ylabel('Time')\n",
    "plt.legend()\n",
    "\n",
    "plt.show()"
   ]
  },
  {
   "cell_type": "code",
   "execution_count": null,
   "id": "5a4a6f43",
   "metadata": {},
   "outputs": [],
   "source": []
  }
 ],
 "metadata": {
  "kernelspec": {
   "display_name": "Python 3 (ipykernel)",
   "language": "python",
   "name": "python3"
  },
  "language_info": {
   "codemirror_mode": {
    "name": "ipython",
    "version": 3
   },
   "file_extension": ".py",
   "mimetype": "text/x-python",
   "name": "python",
   "nbconvert_exporter": "python",
   "pygments_lexer": "ipython3",
   "version": "3.9.13"
  }
 },
 "nbformat": 4,
 "nbformat_minor": 5
}
